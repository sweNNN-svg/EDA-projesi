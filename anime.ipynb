{
 "cells": [
  {
   "cell_type": "code",
   "execution_count": 92,
   "id": "2a1e17e0-d01a-421d-9926-1565ad5ca418",
   "metadata": {},
   "outputs": [],
   "source": [
    "# import edilme işlemi\n",
    "\n",
    "import pandas as pd\n",
    "import matplotlib.pyplot as plt\n",
    "import seaborn as sns"
   ]
  },
  {
   "cell_type": "code",
   "execution_count": null,
   "id": "c4ca6ace-e29b-4d28-acbb-0d44047951f4",
   "metadata": {},
   "outputs": [],
   "source": []
  },
  {
   "cell_type": "code",
   "execution_count": 69,
   "id": "8e69ec59-b704-40e2-a9f7-e1ff6648c4f2",
   "metadata": {},
   "outputs": [],
   "source": [
    "# CSV dosyasından veri okumak"
   ]
  },
  {
   "cell_type": "code",
   "execution_count": 70,
   "id": "8eef0f55-f6fe-4709-b913-bcac63181137",
   "metadata": {},
   "outputs": [],
   "source": [
    "df = pd.read_csv('anime.csv')"
   ]
  },
  {
   "cell_type": "code",
   "execution_count": null,
   "id": "464c5f4b-76af-4d2c-bcac-0ada82dfedf3",
   "metadata": {},
   "outputs": [],
   "source": []
  },
  {
   "cell_type": "code",
   "execution_count": 71,
   "id": "fd62a200-4e14-456d-bab6-24db45d04142",
   "metadata": {},
   "outputs": [],
   "source": [
    "# DataFrame'in ilk 5 satırını görüntülemek"
   ]
  },
  {
   "cell_type": "code",
   "execution_count": 72,
   "id": "ffabcf22-0bcb-4a63-963b-64536ced1f88",
   "metadata": {},
   "outputs": [
    {
     "data": {
      "text/html": [
       "<div>\n",
       "<style scoped>\n",
       "    .dataframe tbody tr th:only-of-type {\n",
       "        vertical-align: middle;\n",
       "    }\n",
       "\n",
       "    .dataframe tbody tr th {\n",
       "        vertical-align: top;\n",
       "    }\n",
       "\n",
       "    .dataframe thead th {\n",
       "        text-align: right;\n",
       "    }\n",
       "</style>\n",
       "<table border=\"1\" class=\"dataframe\">\n",
       "  <thead>\n",
       "    <tr style=\"text-align: right;\">\n",
       "      <th></th>\n",
       "      <th>anime_id</th>\n",
       "      <th>name</th>\n",
       "      <th>genre</th>\n",
       "      <th>type</th>\n",
       "      <th>episodes</th>\n",
       "      <th>rating</th>\n",
       "      <th>members</th>\n",
       "    </tr>\n",
       "  </thead>\n",
       "  <tbody>\n",
       "    <tr>\n",
       "      <th>0</th>\n",
       "      <td>32281</td>\n",
       "      <td>Kimi no Na wa.</td>\n",
       "      <td>Drama, Romance, School, Supernatural</td>\n",
       "      <td>Movie</td>\n",
       "      <td>1</td>\n",
       "      <td>9.37</td>\n",
       "      <td>200630</td>\n",
       "    </tr>\n",
       "    <tr>\n",
       "      <th>1</th>\n",
       "      <td>5114</td>\n",
       "      <td>Fullmetal Alchemist: Brotherhood</td>\n",
       "      <td>Action, Adventure, Drama, Fantasy, Magic, Mili...</td>\n",
       "      <td>TV</td>\n",
       "      <td>64</td>\n",
       "      <td>9.26</td>\n",
       "      <td>793665</td>\n",
       "    </tr>\n",
       "    <tr>\n",
       "      <th>2</th>\n",
       "      <td>28977</td>\n",
       "      <td>Gintama°</td>\n",
       "      <td>Action, Comedy, Historical, Parody, Samurai, S...</td>\n",
       "      <td>TV</td>\n",
       "      <td>51</td>\n",
       "      <td>9.25</td>\n",
       "      <td>114262</td>\n",
       "    </tr>\n",
       "    <tr>\n",
       "      <th>3</th>\n",
       "      <td>9253</td>\n",
       "      <td>Steins;Gate</td>\n",
       "      <td>Sci-Fi, Thriller</td>\n",
       "      <td>TV</td>\n",
       "      <td>24</td>\n",
       "      <td>9.17</td>\n",
       "      <td>673572</td>\n",
       "    </tr>\n",
       "    <tr>\n",
       "      <th>4</th>\n",
       "      <td>9969</td>\n",
       "      <td>Gintama&amp;#039;</td>\n",
       "      <td>Action, Comedy, Historical, Parody, Samurai, S...</td>\n",
       "      <td>TV</td>\n",
       "      <td>51</td>\n",
       "      <td>9.16</td>\n",
       "      <td>151266</td>\n",
       "    </tr>\n",
       "  </tbody>\n",
       "</table>\n",
       "</div>"
      ],
      "text/plain": [
       "   anime_id                              name  \\\n",
       "0     32281                    Kimi no Na wa.   \n",
       "1      5114  Fullmetal Alchemist: Brotherhood   \n",
       "2     28977                          Gintama°   \n",
       "3      9253                       Steins;Gate   \n",
       "4      9969                     Gintama&#039;   \n",
       "\n",
       "                                               genre   type episodes  rating  \\\n",
       "0               Drama, Romance, School, Supernatural  Movie        1    9.37   \n",
       "1  Action, Adventure, Drama, Fantasy, Magic, Mili...     TV       64    9.26   \n",
       "2  Action, Comedy, Historical, Parody, Samurai, S...     TV       51    9.25   \n",
       "3                                   Sci-Fi, Thriller     TV       24    9.17   \n",
       "4  Action, Comedy, Historical, Parody, Samurai, S...     TV       51    9.16   \n",
       "\n",
       "   members  \n",
       "0   200630  \n",
       "1   793665  \n",
       "2   114262  \n",
       "3   673572  \n",
       "4   151266  "
      ]
     },
     "execution_count": 72,
     "metadata": {},
     "output_type": "execute_result"
    }
   ],
   "source": [
    "df.head()"
   ]
  },
  {
   "cell_type": "code",
   "execution_count": null,
   "id": "f1705302-2967-4791-b5f5-bb1e1e5a8d45",
   "metadata": {},
   "outputs": [],
   "source": []
  },
  {
   "cell_type": "code",
   "execution_count": 73,
   "id": "05c06677-9e13-4bba-b2be-901777489a50",
   "metadata": {},
   "outputs": [],
   "source": [
    "# DataFrame'in son beş satırını görüntülemek"
   ]
  },
  {
   "cell_type": "code",
   "execution_count": 74,
   "id": "a5947e95-e2bf-4bd3-8d23-7e7167498031",
   "metadata": {},
   "outputs": [
    {
     "data": {
      "text/html": [
       "<div>\n",
       "<style scoped>\n",
       "    .dataframe tbody tr th:only-of-type {\n",
       "        vertical-align: middle;\n",
       "    }\n",
       "\n",
       "    .dataframe tbody tr th {\n",
       "        vertical-align: top;\n",
       "    }\n",
       "\n",
       "    .dataframe thead th {\n",
       "        text-align: right;\n",
       "    }\n",
       "</style>\n",
       "<table border=\"1\" class=\"dataframe\">\n",
       "  <thead>\n",
       "    <tr style=\"text-align: right;\">\n",
       "      <th></th>\n",
       "      <th>anime_id</th>\n",
       "      <th>name</th>\n",
       "      <th>genre</th>\n",
       "      <th>type</th>\n",
       "      <th>episodes</th>\n",
       "      <th>rating</th>\n",
       "      <th>members</th>\n",
       "    </tr>\n",
       "  </thead>\n",
       "  <tbody>\n",
       "    <tr>\n",
       "      <th>12289</th>\n",
       "      <td>9316</td>\n",
       "      <td>Toushindai My Lover: Minami tai Mecha-Minami</td>\n",
       "      <td>Hentai</td>\n",
       "      <td>OVA</td>\n",
       "      <td>1</td>\n",
       "      <td>4.15</td>\n",
       "      <td>211</td>\n",
       "    </tr>\n",
       "    <tr>\n",
       "      <th>12290</th>\n",
       "      <td>5543</td>\n",
       "      <td>Under World</td>\n",
       "      <td>Hentai</td>\n",
       "      <td>OVA</td>\n",
       "      <td>1</td>\n",
       "      <td>4.28</td>\n",
       "      <td>183</td>\n",
       "    </tr>\n",
       "    <tr>\n",
       "      <th>12291</th>\n",
       "      <td>5621</td>\n",
       "      <td>Violence Gekiga David no Hoshi</td>\n",
       "      <td>Hentai</td>\n",
       "      <td>OVA</td>\n",
       "      <td>4</td>\n",
       "      <td>4.88</td>\n",
       "      <td>219</td>\n",
       "    </tr>\n",
       "    <tr>\n",
       "      <th>12292</th>\n",
       "      <td>6133</td>\n",
       "      <td>Violence Gekiga Shin David no Hoshi: Inma Dens...</td>\n",
       "      <td>Hentai</td>\n",
       "      <td>OVA</td>\n",
       "      <td>1</td>\n",
       "      <td>4.98</td>\n",
       "      <td>175</td>\n",
       "    </tr>\n",
       "    <tr>\n",
       "      <th>12293</th>\n",
       "      <td>26081</td>\n",
       "      <td>Yasuji no Pornorama: Yacchimae!!</td>\n",
       "      <td>Hentai</td>\n",
       "      <td>Movie</td>\n",
       "      <td>1</td>\n",
       "      <td>5.46</td>\n",
       "      <td>142</td>\n",
       "    </tr>\n",
       "  </tbody>\n",
       "</table>\n",
       "</div>"
      ],
      "text/plain": [
       "       anime_id                                               name   genre  \\\n",
       "12289      9316       Toushindai My Lover: Minami tai Mecha-Minami  Hentai   \n",
       "12290      5543                                        Under World  Hentai   \n",
       "12291      5621                     Violence Gekiga David no Hoshi  Hentai   \n",
       "12292      6133  Violence Gekiga Shin David no Hoshi: Inma Dens...  Hentai   \n",
       "12293     26081                   Yasuji no Pornorama: Yacchimae!!  Hentai   \n",
       "\n",
       "        type episodes  rating  members  \n",
       "12289    OVA        1    4.15      211  \n",
       "12290    OVA        1    4.28      183  \n",
       "12291    OVA        4    4.88      219  \n",
       "12292    OVA        1    4.98      175  \n",
       "12293  Movie        1    5.46      142  "
      ]
     },
     "execution_count": 74,
     "metadata": {},
     "output_type": "execute_result"
    }
   ],
   "source": [
    "df.tail()"
   ]
  },
  {
   "cell_type": "code",
   "execution_count": null,
   "id": "4b36e210-7044-4269-9e14-25a476c66049",
   "metadata": {},
   "outputs": [],
   "source": []
  },
  {
   "cell_type": "code",
   "execution_count": 75,
   "id": "2bb20f82-030c-4f09-b4ee-8797d8374e9d",
   "metadata": {},
   "outputs": [],
   "source": [
    "# Dataframe'in sütün isimlerini görüntülemek"
   ]
  },
  {
   "cell_type": "code",
   "execution_count": 76,
   "id": "e55b4a19-d8fd-4baf-b0c9-de99d3a47c76",
   "metadata": {},
   "outputs": [
    {
     "name": "stdout",
     "output_type": "stream",
     "text": [
      "['anime_id', 'name', 'genre', 'type', 'episodes', 'rating', 'members']\n"
     ]
    }
   ],
   "source": [
    "columns = df.columns.tolist()\n",
    "print(columns)"
   ]
  },
  {
   "cell_type": "code",
   "execution_count": null,
   "id": "2cb20ec9-5a0f-493a-ac6c-bce73be54b98",
   "metadata": {},
   "outputs": [],
   "source": []
  },
  {
   "cell_type": "code",
   "execution_count": 77,
   "id": "653c07bf-08f5-445a-9174-72fb02951d04",
   "metadata": {},
   "outputs": [],
   "source": [
    "# animeyi minimum üye sayısına göre filtreleme"
   ]
  },
  {
   "cell_type": "code",
   "execution_count": 78,
   "id": "b00f5ce3-d77d-47f6-bfc8-d92c30c067fa",
   "metadata": {},
   "outputs": [],
   "source": [
    "df = df[df[\"members\"] >= 100]"
   ]
  },
  {
   "cell_type": "code",
   "execution_count": null,
   "id": "9d19d94d-d3f5-48e5-bb1e-d603b4adfe72",
   "metadata": {},
   "outputs": [],
   "source": []
  },
  {
   "cell_type": "code",
   "execution_count": 79,
   "id": "d92f368b-657e-4833-801e-37c25e66ceaf",
   "metadata": {},
   "outputs": [],
   "source": [
    "# animeyi derecelendirmeye göre sırala"
   ]
  },
  {
   "cell_type": "code",
   "execution_count": 80,
   "id": "58fa6a95-e49f-443f-bca5-028220123ec8",
   "metadata": {},
   "outputs": [],
   "source": [
    "df = df.sort_values(\"rating\", ascending=False)"
   ]
  },
  {
   "cell_type": "code",
   "execution_count": 81,
   "id": "e18be3ad-f22d-4ad4-a2e7-7b350691dc61",
   "metadata": {},
   "outputs": [],
   "source": [
    "# ilk 10 animeyi getirme"
   ]
  },
  {
   "cell_type": "code",
   "execution_count": 82,
   "id": "d1a476e3-8e6d-4978-82d8-c5989872836e",
   "metadata": {},
   "outputs": [],
   "source": [
    "top_10_anime = df.head(10)"
   ]
  },
  {
   "cell_type": "code",
   "execution_count": 83,
   "id": "bfadf58a-4dad-496c-ac9d-d6f1b12be62c",
   "metadata": {},
   "outputs": [],
   "source": [
    "# en popüler ilk 10 animeyi yazdırma"
   ]
  },
  {
   "cell_type": "code",
   "execution_count": 84,
   "id": "0f7a6c85-8c8f-4f9c-b96f-70a993a9b86f",
   "metadata": {},
   "outputs": [
    {
     "name": "stdout",
     "output_type": "stream",
     "text": [
      "   anime_id                                               name  \\\n",
      "0     32281                                     Kimi no Na wa.   \n",
      "1      5114                   Fullmetal Alchemist: Brotherhood   \n",
      "2     28977                                           Gintama°   \n",
      "3      9253                                        Steins;Gate   \n",
      "4      9969                                      Gintama&#039;   \n",
      "5     32935  Haikyuu!!: Karasuno Koukou VS Shiratorizawa Ga...   \n",
      "6     11061                             Hunter x Hunter (2011)   \n",
      "7       820                               Ginga Eiyuu Densetsu   \n",
      "9     15417                           Gintama&#039;: Enchousen   \n",
      "8     15335  Gintama Movie: Kanketsu-hen - Yorozuya yo Eien...   \n",
      "\n",
      "                                               genre   type episodes  rating  \\\n",
      "0               Drama, Romance, School, Supernatural  Movie        1    9.37   \n",
      "1  Action, Adventure, Drama, Fantasy, Magic, Mili...     TV       64    9.26   \n",
      "2  Action, Comedy, Historical, Parody, Samurai, S...     TV       51    9.25   \n",
      "3                                   Sci-Fi, Thriller     TV       24    9.17   \n",
      "4  Action, Comedy, Historical, Parody, Samurai, S...     TV       51    9.16   \n",
      "5             Comedy, Drama, School, Shounen, Sports     TV       10    9.15   \n",
      "6            Action, Adventure, Shounen, Super Power     TV      148    9.13   \n",
      "7                     Drama, Military, Sci-Fi, Space    OVA      110    9.11   \n",
      "9  Action, Comedy, Historical, Parody, Samurai, S...     TV       13    9.11   \n",
      "8  Action, Comedy, Historical, Parody, Samurai, S...  Movie        1    9.10   \n",
      "\n",
      "   members  \n",
      "0   200630  \n",
      "1   793665  \n",
      "2   114262  \n",
      "3   673572  \n",
      "4   151266  \n",
      "5    93351  \n",
      "6   425855  \n",
      "7    80679  \n",
      "9    81109  \n",
      "8    72534  \n"
     ]
    }
   ],
   "source": [
    "print(top_10_anime)"
   ]
  },
  {
   "cell_type": "code",
   "execution_count": null,
   "id": "61648609-d0f8-4839-9473-71d84f960712",
   "metadata": {},
   "outputs": [],
   "source": []
  },
  {
   "cell_type": "code",
   "execution_count": 85,
   "id": "f60f6819-5e3a-49f4-bdde-d017fbc53716",
   "metadata": {},
   "outputs": [],
   "source": [
    "# kullanılan anime türlerini yazdırma"
   ]
  },
  {
   "cell_type": "code",
   "execution_count": 86,
   "id": "cbbffaa6-e2d8-4980-9c0f-2c86f410f059",
   "metadata": {},
   "outputs": [
    {
     "name": "stdout",
     "output_type": "stream",
     "text": [
      "['Drama' 'Romance' 'School' 'Supernatural' 'Action' 'Adventure' 'Fantasy'\n",
      " 'Magic' 'Military' 'Shounen' 'Comedy' 'Historical' 'Parody' 'Samurai'\n",
      " 'Sci-Fi' 'Thriller' 'Sports' 'Super Power' 'Space' 'Slice of Life'\n",
      " 'Mecha' 'Music' 'Mystery' 'Seinen' 'Martial Arts' 'Vampire' 'Shoujo'\n",
      " 'Horror' 'Police' 'Psychological' 'Demons' 'Ecchi' 'Josei' 'Shounen Ai'\n",
      " 'Game' 'Dementia' 'Kids' 'Harem' 'Hentai' 'Cars' 'Shoujo Ai' 'Yaoi'\n",
      " 'Yuri' nan]\n"
     ]
    }
   ],
   "source": [
    "genre = df[\"genre\"].str.split(', ').explode().unique()\n",
    "\n",
    "print(genre)"
   ]
  },
  {
   "cell_type": "code",
   "execution_count": null,
   "id": "b691056b-dec3-4e1c-9cb0-b69cfd729931",
   "metadata": {},
   "outputs": [],
   "source": []
  },
  {
   "cell_type": "code",
   "execution_count": 87,
   "id": "1df9631e-d745-4f57-8228-01629beb9daa",
   "metadata": {},
   "outputs": [],
   "source": [
    "# Anime türlerinin frekansları"
   ]
  },
  {
   "cell_type": "code",
   "execution_count": 101,
   "id": "dfdc8a17-ae15-4891-998d-a9dccba587bc",
   "metadata": {},
   "outputs": [
    {
     "name": "stdout",
     "output_type": "stream",
     "text": [
      "Series([], Name: count, dtype: int64)\n"
     ]
    }
   ],
   "source": [
    "# \"genre\" sütununu virgülle ayrılmış olarak ayırın\n",
    "genre_counts = df['genre'].value_counts()\n",
    "print(genre_counts)"
   ]
  },
  {
   "cell_type": "code",
   "execution_count": null,
   "id": "e9fb2600-39a7-4b92-a767-43b8f92eba7f",
   "metadata": {},
   "outputs": [],
   "source": []
  },
  {
   "cell_type": "code",
   "execution_count": null,
   "id": "e68efb25-6340-469b-bc5c-6251fab79401",
   "metadata": {},
   "outputs": [],
   "source": []
  }
 ],
 "metadata": {
  "kernelspec": {
   "display_name": "Python 3 (ipykernel)",
   "language": "python",
   "name": "python3"
  },
  "language_info": {
   "codemirror_mode": {
    "name": "ipython",
    "version": 3
   },
   "file_extension": ".py",
   "mimetype": "text/x-python",
   "name": "python",
   "nbconvert_exporter": "python",
   "pygments_lexer": "ipython3",
   "version": "3.11.4"
  }
 },
 "nbformat": 4,
 "nbformat_minor": 5
}
